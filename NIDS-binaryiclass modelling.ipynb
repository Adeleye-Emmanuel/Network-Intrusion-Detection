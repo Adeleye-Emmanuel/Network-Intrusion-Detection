{
 "cells": [
  {
   "cell_type": "markdown",
   "metadata": {},
   "source": [
    "# BINARY NETWORK TRAFFIC ANALYSIS"
   ]
  },
  {
   "cell_type": "code",
   "execution_count": 1,
   "metadata": {},
   "outputs": [],
   "source": [
    "import numpy as np\n",
    "import pandas as pd\n",
    "import seaborn as sns\n",
    "import matplotlib.pyplot as plt\n",
    "%matplotlib inline\n",
    "import warnings"
   ]
  },
  {
   "cell_type": "code",
   "execution_count": 2,
   "metadata": {},
   "outputs": [],
   "source": [
    "train = pd.read_table('KDDTrain+.txt',sep=',',header=None)\n",
    "test = pd.read_table('KDDTest+.txt',sep=',',header=None)\n",
    "\n",
    "feature_names = ['Duration', 'Protocol Type', 'Service', 'Flag', 'Source Bytes', 'Destination Bytes', 'Land', 'Wrong Fragment', \n",
    "                 'Urgent', 'Hot', 'Number Failed Logins', 'Login', 'Num compromised', 'Root Shell', 'Su attempted', 'Num root', 'Num file creations',\n",
    "                'Num shells', 'Num access files', 'Num outbound cmds', 'Is host login', 'Is guest Login', 'Count', 'Srv Count', 'Serror rate',  'Srv Serror rate',\n",
    "                'Rerror rate', 'Srv rerror rate', 'Same srv rate', 'Diff srv rate', 'Srv diff host rate', 'Dst host count', 'Dst host srv count', 'Dst host same srv rate',\n",
    "                'Dst host diff srv rate', 'Dst host same src port rate', 'Dst host diff src host rate', 'Dst host serror rate', 'Dst host srv serror rate', \n",
    "                'Dst host rerror rate', 'Dst host srv rerror rate', 'Class Label', 'Difficulty']\n",
    "\n",
    "train.columns = feature_names\n",
    "test.columns = feature_names"
   ]
  },
  {
   "cell_type": "code",
   "execution_count": null,
   "metadata": {},
   "outputs": [],
   "source": []
  },
  {
   "cell_type": "code",
   "execution_count": 3,
   "metadata": {},
   "outputs": [
    {
     "data": {
      "text/plain": [
       "Duration                       0\n",
       "Protocol Type                  0\n",
       "Service                        0\n",
       "Flag                           0\n",
       "Source Bytes                   0\n",
       "Destination Bytes              0\n",
       "Land                           0\n",
       "Wrong Fragment                 0\n",
       "Urgent                         0\n",
       "Hot                            0\n",
       "Number Failed Logins           0\n",
       "Login                          0\n",
       "Num compromised                0\n",
       "Root Shell                     0\n",
       "Su attempted                   0\n",
       "Num root                       0\n",
       "Num file creations             0\n",
       "Num shells                     0\n",
       "Num access files               0\n",
       "Num outbound cmds              0\n",
       "Is host login                  0\n",
       "Is guest Login                 0\n",
       "Count                          0\n",
       "Srv Count                      0\n",
       "Serror rate                    0\n",
       "Srv Serror rate                0\n",
       "Rerror rate                    0\n",
       "Srv rerror rate                0\n",
       "Same srv rate                  0\n",
       "Diff srv rate                  0\n",
       "Srv diff host rate             0\n",
       "Dst host count                 0\n",
       "Dst host srv count             0\n",
       "Dst host same srv rate         0\n",
       "Dst host diff srv rate         0\n",
       "Dst host same src port rate    0\n",
       "Dst host diff src host rate    0\n",
       "Dst host serror rate           0\n",
       "Dst host srv serror rate       0\n",
       "Dst host rerror rate           0\n",
       "Dst host srv rerror rate       0\n",
       "Class Label                    0\n",
       "Difficulty                     0\n",
       "dtype: int64"
      ]
     },
     "execution_count": 3,
     "metadata": {},
     "output_type": "execute_result"
    }
   ],
   "source": [
    "train.isnull().sum()"
   ]
  },
  {
   "cell_type": "code",
   "execution_count": 4,
   "metadata": {},
   "outputs": [],
   "source": [
    "train_target = train['Class Label']\n",
    "train_target_labels = train_target.unique().tolist()\n",
    "train_attacks = train_target_labels.remove('normal')\n",
    "train['Class Label'] = train['Class Label'].replace([i for i in train_target_labels],'attack')"
   ]
  },
  {
   "cell_type": "code",
   "execution_count": 5,
   "metadata": {},
   "outputs": [],
   "source": [
    "test_target = test['Class Label']\n",
    "test_target_labels = test_target.unique().tolist()\n",
    "test_attacks = test_target_labels.remove('normal')\n",
    "test['Class Label'] = test['Class Label'].replace([i for i in test_target_labels],'attack')"
   ]
  },
  {
   "cell_type": "code",
   "execution_count": 6,
   "metadata": {},
   "outputs": [],
   "source": [
    "categorical_features = [feature for feature in train if train[feature].dtype == 'object']\n",
    "numerical_features = [feature for feature in train if train[feature].dtype != 'object']"
   ]
  },
  {
   "cell_type": "markdown",
   "metadata": {},
   "source": [
    "### Data Preprocessing"
   ]
  },
  {
   "cell_type": "code",
   "execution_count": 7,
   "metadata": {},
   "outputs": [],
   "source": [
    "class_map = {'normal':0,'attack':1}\n",
    "train['Class Label'] = train['Class Label'].map(class_map)\n",
    "test['Class Label'] = test['Class Label'].map(class_map)"
   ]
  },
  {
   "cell_type": "code",
   "execution_count": 8,
   "metadata": {},
   "outputs": [],
   "source": [
    "data = pd.concat([train,test],axis=0)"
   ]
  },
  {
   "cell_type": "code",
   "execution_count": 9,
   "metadata": {},
   "outputs": [],
   "source": [
    "def correl(data):\n",
    "    corr = data.corr()\n",
    "    results = corr['Class Label'].sort_values(ascending=False)\n",
    "    \n",
    "    return results"
   ]
  },
  {
   "cell_type": "code",
   "execution_count": 10,
   "metadata": {},
   "outputs": [
    {
     "data": {
      "text/plain": [
       "Class Label                    1.000000\n",
       "Dst host srv serror rate       0.593690\n",
       "Dst host serror rate           0.589936\n",
       "Serror rate                    0.588474\n",
       "Srv Serror rate                0.586636\n",
       "Count                          0.524108\n",
       "Dst host count                 0.373459\n",
       "Dst host rerror rate           0.300751\n",
       "Rerror rate                    0.300664\n",
       "Srv rerror rate                0.299129\n",
       "Dst host srv rerror rate       0.297977\n",
       "Dst host diff srv rate         0.244649\n",
       "Diff srv rate                  0.215802\n",
       "Wrong Fragment                 0.081696\n",
       "Dst host same src port rate    0.081468\n",
       "Dst host diff src host rate    0.053079\n",
       "Duration                       0.052119\n",
       "Number Failed Logins           0.042730\n",
       "Land                           0.008817\n",
       "Is host login                  0.007835\n",
       "Source Bytes                   0.005457\n",
       "Urgent                         0.003862\n",
       "Is guest Login                 0.003839\n",
       "Destination Bytes              0.003583\n",
       "Num shells                    -0.000259\n",
       "Hot                           -0.009637\n",
       "Num compromised               -0.009900\n",
       "Num root                      -0.011165\n",
       "Root Shell                    -0.013468\n",
       "Srv Count                     -0.015006\n",
       "Num file creations            -0.017585\n",
       "Su attempted                  -0.021545\n",
       "Num access files              -0.035478\n",
       "Srv diff host rate            -0.113183\n",
       "Difficulty                    -0.376252\n",
       "Login                         -0.664117\n",
       "Dst host same srv rate        -0.667624\n",
       "Dst host srv count            -0.692577\n",
       "Same srv rate                 -0.708911\n",
       "Num outbound cmds                   NaN\n",
       "Name: Class Label, dtype: float64"
      ]
     },
     "execution_count": 10,
     "metadata": {},
     "output_type": "execute_result"
    }
   ],
   "source": [
    "correl(data)"
   ]
  },
  {
   "cell_type": "markdown",
   "metadata": {},
   "source": [
    "## Weight Encoding"
   ]
  },
  {
   "cell_type": "code",
   "execution_count": 11,
   "metadata": {},
   "outputs": [],
   "source": [
    "data_service = data['Service'].value_counts()/data['Service'].value_counts().sum()\n",
    "data_service_map = dict(data_service)\n",
    "\n",
    "data['Service'] = data['Service'].map(data_service_map) "
   ]
  },
  {
   "cell_type": "code",
   "execution_count": 12,
   "metadata": {},
   "outputs": [],
   "source": [
    "#protocol encoding\n",
    "protocol_dummies_data = pd.get_dummies(data['Protocol Type']).add_suffix('_Protocol')\n",
    "data = pd.concat([data,protocol_dummies_data],axis=1).drop('Protocol Type',axis=1)\n",
    "\n",
    "#flag encoding\n",
    "flag_dummies_data = pd.get_dummies(data['Flag']).add_suffix('_Flag')\n",
    "data = pd.concat([data,flag_dummies_data],axis=1).drop('Flag',axis=1)"
   ]
  },
  {
   "cell_type": "code",
   "execution_count": 13,
   "metadata": {
    "scrolled": false
   },
   "outputs": [
    {
     "data": {
      "text/plain": [
       "0    77054\n",
       "1    71463\n",
       "Name: Class Label, dtype: int64"
      ]
     },
     "execution_count": 13,
     "metadata": {},
     "output_type": "execute_result"
    }
   ],
   "source": [
    "data['Class Label'].value_counts()"
   ]
  },
  {
   "cell_type": "code",
   "execution_count": 14,
   "metadata": {},
   "outputs": [],
   "source": [
    "def get_quartiles(column):\n",
    "    q1, q3 = np.percentile(data[column], [25, 75])\n",
    "    iqr = q3 - q1\n",
    "    lower_bound = q1 - (1.5 * iqr)\n",
    "    upper_bound = q3 + (1.5 * iqr)\n",
    "    \n",
    "    return lower_bound,upper_bound"
   ]
  },
  {
   "cell_type": "code",
   "execution_count": 15,
   "metadata": {},
   "outputs": [],
   "source": [
    "def log_adjust(column):\n",
    "    \n",
    "    fill = []\n",
    "    \n",
    "    b1,b2 = get_quartiles(column)\n",
    "    for i in data[column]:\n",
    "        if i>b2:\n",
    "            fill.append(np.log(i))\n",
    "        else:\n",
    "            fill.append(i)\n",
    "            \n",
    "    return fill        "
   ]
  },
  {
   "cell_type": "code",
   "execution_count": 16,
   "metadata": {},
   "outputs": [],
   "source": [
    "data['Log_num_compromised'] = log_adjust('Num compromised')\n",
    "data['Count'] = log_adjust('Count')\n",
    "data['Log_Srv_count'] = log_adjust('Srv Count')\n",
    "data['Log_file_creations'] = log_adjust('Num file creations')"
   ]
  },
  {
   "cell_type": "code",
   "execution_count": 17,
   "metadata": {},
   "outputs": [],
   "source": [
    "data.drop(['Num compromised','Count','Srv Count','Num file creations'],axis=1,inplace=True)"
   ]
  },
  {
   "cell_type": "markdown",
   "metadata": {},
   "source": [
    "### Modelling"
   ]
  },
  {
   "cell_type": "code",
   "execution_count": 18,
   "metadata": {
    "scrolled": true
   },
   "outputs": [],
   "source": [
    "from sklearn.model_selection import train_test_split,cross_val_score,StratifiedKFold,GridSearchCV,cross_validate\n",
    "from sklearn.pipeline import make_pipeline, Pipeline\n",
    "from sklearn.preprocessing import MinMaxScaler, StandardScaler, RobustScaler\n",
    "from sklearn.feature_selection import SelectPercentile\n",
    "from sklearn.decomposition import PCA\n",
    "from sklearn.linear_model import LogisticRegression\n",
    "from sklearn.svm import SVC\n",
    "from sklearn.ensemble import RandomForestClassifier, GradientBoostingClassifier\n",
    "from sklearn.metrics import confusion_matrix,classification_report,roc_auc_score,accuracy_score\n",
    "import xgboost as xgb\n",
    "import lightgbm as lgb"
   ]
  },
  {
   "cell_type": "code",
   "execution_count": 19,
   "metadata": {
    "scrolled": true
   },
   "outputs": [],
   "source": [
    "new_train = data[:train.shape[0]]\n",
    "new_test = data[train.shape[0]:]"
   ]
  },
  {
   "cell_type": "code",
   "execution_count": 20,
   "metadata": {},
   "outputs": [],
   "source": [
    "target = new_train['Class Label']\n",
    "X = new_train.drop(['Class Label'], axis=1)"
   ]
  },
  {
   "cell_type": "code",
   "execution_count": 21,
   "metadata": {},
   "outputs": [],
   "source": [
    "test_target = new_test['Class Label']\n",
    "test_data = new_test.drop(['Class Label'], axis=1)"
   ]
  },
  {
   "cell_type": "code",
   "execution_count": 22,
   "metadata": {
    "scrolled": true
   },
   "outputs": [],
   "source": [
    "X_train,X_test,y_train,y_test = train_test_split(X.values, target.values, random_state=16)"
   ]
  },
  {
   "cell_type": "code",
   "execution_count": 23,
   "metadata": {},
   "outputs": [
    {
     "data": {
      "text/plain": [
       "(94479, 53)"
      ]
     },
     "execution_count": 23,
     "metadata": {},
     "output_type": "execute_result"
    }
   ],
   "source": [
    "X_train.shape"
   ]
  },
  {
   "cell_type": "code",
   "execution_count": 24,
   "metadata": {},
   "outputs": [
    {
     "data": {
      "text/plain": [
       "(94479,)"
      ]
     },
     "execution_count": 24,
     "metadata": {},
     "output_type": "execute_result"
    }
   ],
   "source": [
    "y_train.shape"
   ]
  },
  {
   "cell_type": "code",
   "execution_count": 25,
   "metadata": {},
   "outputs": [
    {
     "data": {
      "text/plain": [
       "(31494, 53)"
      ]
     },
     "execution_count": 25,
     "metadata": {},
     "output_type": "execute_result"
    }
   ],
   "source": [
    "X_test.shape"
   ]
  },
  {
   "cell_type": "code",
   "execution_count": 26,
   "metadata": {},
   "outputs": [
    {
     "data": {
      "text/plain": [
       "(31494,)"
      ]
     },
     "execution_count": 26,
     "metadata": {},
     "output_type": "execute_result"
    }
   ],
   "source": [
    "y_test.shape"
   ]
  },
  {
   "cell_type": "markdown",
   "metadata": {},
   "source": [
    "## Logistic Regression"
   ]
  },
  {
   "cell_type": "code",
   "execution_count": 27,
   "metadata": {},
   "outputs": [],
   "source": [
    "pipe_lr = make_pipeline(MinMaxScaler(),\n",
    "                         SelectPercentile(percentile=50),LogisticRegression(C=100,max_iter=1000))"
   ]
  },
  {
   "cell_type": "code",
   "execution_count": 28,
   "metadata": {},
   "outputs": [
    {
     "name": "stderr",
     "output_type": "stream",
     "text": [
      "C:\\Users\\ben\\anaconda3\\lib\\site-packages\\sklearn\\feature_selection\\_univariate_selection.py:114: UserWarning: Features [15 16] are constant.\n",
      "  UserWarning)\n",
      "C:\\Users\\ben\\anaconda3\\lib\\site-packages\\sklearn\\feature_selection\\_univariate_selection.py:115: RuntimeWarning: invalid value encountered in true_divide\n",
      "  f = msb / msw\n"
     ]
    },
    {
     "data": {
      "text/plain": [
       "Pipeline(memory=None,\n",
       "         steps=[('minmaxscaler', MinMaxScaler(copy=True, feature_range=(0, 1))),\n",
       "                ('selectpercentile',\n",
       "                 SelectPercentile(percentile=50,\n",
       "                                  score_func=<function f_classif at 0x000001EF6E0F48B8>)),\n",
       "                ('logisticregression',\n",
       "                 LogisticRegression(C=100, class_weight=None, dual=False,\n",
       "                                    fit_intercept=True, intercept_scaling=1,\n",
       "                                    l1_ratio=None, max_iter=1000,\n",
       "                                    multi_class='auto', n_jobs=None,\n",
       "                                    penalty='l2', random_state=None,\n",
       "                                    solver='lbfgs', tol=0.0001, verbose=0,\n",
       "                                    warm_start=False))],\n",
       "         verbose=False)"
      ]
     },
     "execution_count": 28,
     "metadata": {},
     "output_type": "execute_result"
    }
   ],
   "source": [
    "pipe_lr.fit(X_train,y_train)"
   ]
  },
  {
   "cell_type": "code",
   "execution_count": 29,
   "metadata": {},
   "outputs": [],
   "source": [
    "pred_test = pipe_lr.predict(X_test)"
   ]
  },
  {
   "cell_type": "code",
   "execution_count": 30,
   "metadata": {
    "scrolled": true
   },
   "outputs": [
    {
     "name": "stdout",
     "output_type": "stream",
     "text": [
      "Train Result\n",
      "\n",
      "Confusion matrix:\n",
      "[[16451   351]\n",
      " [  348 14344]]\n",
      "\n",
      "              precision    recall  f1-score   support\n",
      "\n",
      "      normal       0.98      0.98      0.98     16802\n",
      "      attack       0.98      0.98      0.98     14692\n",
      "\n",
      "    accuracy                           0.98     31494\n",
      "   macro avg       0.98      0.98      0.98     31494\n",
      "weighted avg       0.98      0.98      0.98     31494\n",
      "\n"
     ]
    }
   ],
   "source": [
    "confusion = confusion_matrix(y_test, pred_test)\n",
    "print('Train Result\\n')\n",
    "print(\"Confusion matrix:\\n{}\\n\".format(confusion))\n",
    "\n",
    "print(classification_report(y_test, pred_test,target_names=[\"normal\", \"attack\"]))"
   ]
  },
  {
   "cell_type": "code",
   "execution_count": 31,
   "metadata": {
    "scrolled": true
   },
   "outputs": [],
   "source": [
    "prediction = pipe_lr.predict(test_data)"
   ]
  },
  {
   "cell_type": "code",
   "execution_count": 32,
   "metadata": {},
   "outputs": [
    {
     "data": {
      "text/plain": [
       "0.8707860184528035"
      ]
     },
     "execution_count": 32,
     "metadata": {},
     "output_type": "execute_result"
    }
   ],
   "source": [
    "accuracy_score(test_target,prediction)"
   ]
  },
  {
   "cell_type": "code",
   "execution_count": 33,
   "metadata": {
    "scrolled": false
   },
   "outputs": [
    {
     "name": "stdout",
     "output_type": "stream",
     "text": [
      "Test Result\n",
      "\n",
      "Confusion matrix:\n",
      "[[ 9313   398]\n",
      " [ 2515 10318]]\n",
      "\n",
      "              precision    recall  f1-score   support\n",
      "\n",
      "      normal       0.79      0.96      0.86      9711\n",
      "      attack       0.96      0.80      0.88     12833\n",
      "\n",
      "    accuracy                           0.87     22544\n",
      "   macro avg       0.88      0.88      0.87     22544\n",
      "weighted avg       0.89      0.87      0.87     22544\n",
      "\n"
     ]
    }
   ],
   "source": [
    "confusion = confusion_matrix(test_target,prediction)\n",
    "print('Test Result\\n')\n",
    "print(\"Confusion matrix:\\n{}\\n\".format(confusion))\n",
    "\n",
    "print(classification_report(test_target,prediction,target_names=[\"normal\", \"attack\"]))"
   ]
  },
  {
   "cell_type": "code",
   "execution_count": 38,
   "metadata": {},
   "outputs": [],
   "source": [
    "prediction=pipe_lr.predict(test_data)"
   ]
  },
  {
   "cell_type": "code",
   "execution_count": 39,
   "metadata": {},
   "outputs": [],
   "source": [
    "confusion = confusion_matrix(prediction,test_target)"
   ]
  },
  {
   "cell_type": "code",
   "execution_count": 40,
   "metadata": {},
   "outputs": [
    {
     "data": {
      "text/plain": [
       "<matplotlib.axes._subplots.AxesSubplot at 0x1ef02771288>"
      ]
     },
     "execution_count": 40,
     "metadata": {},
     "output_type": "execute_result"
    },
    {
     "data": {
      "image/png": "[encoded data removed]",
      "text/plain": [
       "<Figure size 720x360 with 2 Axes>"
      ]
     },
     "metadata": {
      "needs_background": "light"
     },
     "output_type": "display_data"
    }
   ],
   "source": [
    "plt.subplots(figsize=(10,5))\n",
    "plt.title('Logistics Regression Confusion Matrix')\n",
    "sns.heatmap(confusion,fmt='d',annot=True,cmap='YlGnBu',\n",
    "            xticklabels=['Predicted Normal','Predicted Attack'], yticklabels=['Actual Normal','Actual Attack'])"
   ]
  },
  {
   "cell_type": "markdown",
   "metadata": {},
   "source": [
    "## RANDOM FOREST"
   ]
  },
  {
   "cell_type": "code",
   "execution_count": 41,
   "metadata": {},
   "outputs": [],
   "source": [
    "pipe_rf = make_pipeline(SelectPercentile(percentile=25),\n",
    "                        RandomForestClassifier(n_estimators=150,max_depth=5,random_state=16))"
   ]
  },
  {
   "cell_type": "code",
   "execution_count": 42,
   "metadata": {},
   "outputs": [
    {
     "name": "stderr",
     "output_type": "stream",
     "text": [
      "C:\\Users\\ben\\anaconda3\\lib\\site-packages\\sklearn\\feature_selection\\_univariate_selection.py:114: UserWarning: Features [15 16] are constant.\n",
      "  UserWarning)\n",
      "C:\\Users\\ben\\anaconda3\\lib\\site-packages\\sklearn\\feature_selection\\_univariate_selection.py:115: RuntimeWarning: invalid value encountered in true_divide\n",
      "  f = msb / msw\n"
     ]
    },
    {
     "data": {
      "text/plain": [
       "Pipeline(memory=None,\n",
       "         steps=[('selectpercentile',\n",
       "                 SelectPercentile(percentile=25,\n",
       "                                  score_func=<function f_classif at 0x000001EF6E0F48B8>)),\n",
       "                ('randomforestclassifier',\n",
       "                 RandomForestClassifier(bootstrap=True, ccp_alpha=0.0,\n",
       "                                        class_weight=None, criterion='gini',\n",
       "                                        max_depth=5, max_features='auto',\n",
       "                                        max_leaf_nodes=None, max_samples=None,\n",
       "                                        min_impurity_decrease=0.0,\n",
       "                                        min_impurity_split=None,\n",
       "                                        min_samples_leaf=1, min_samples_split=2,\n",
       "                                        min_weight_fraction_leaf=0.0,\n",
       "                                        n_estimators=150, n_jobs=None,\n",
       "                                        oob_score=False, random_state=16,\n",
       "                                        verbose=0, warm_start=False))],\n",
       "         verbose=False)"
      ]
     },
     "execution_count": 42,
     "metadata": {},
     "output_type": "execute_result"
    }
   ],
   "source": [
    "pipe_rf.fit(X_train,y_train)"
   ]
  },
  {
   "cell_type": "code",
   "execution_count": 43,
   "metadata": {},
   "outputs": [],
   "source": [
    "pred_test = pipe_rf.predict(X_test)"
   ]
  },
  {
   "cell_type": "code",
   "execution_count": 44,
   "metadata": {},
   "outputs": [
    {
     "name": "stdout",
     "output_type": "stream",
     "text": [
      "Train Result\n",
      "\n",
      "Confusion matrix:\n",
      "[[16579   293]\n",
      " [  223 14399]]\n",
      "\n",
      "              precision    recall  f1-score   support\n",
      "\n",
      "      normal       0.98      0.99      0.98     16802\n",
      "      attack       0.98      0.98      0.98     14692\n",
      "\n",
      "    accuracy                           0.98     31494\n",
      "   macro avg       0.98      0.98      0.98     31494\n",
      "weighted avg       0.98      0.98      0.98     31494\n",
      "\n"
     ]
    }
   ],
   "source": [
    "confusion = confusion_matrix(pred_test,y_test)\n",
    "print('Train Result\\n')\n",
    "print(\"Confusion matrix:\\n{}\\n\".format(confusion))\n",
    "\n",
    "print(classification_report(y_test, pred_test,target_names=[\"normal\", \"attack\"]))"
   ]
  },
  {
   "cell_type": "code",
   "execution_count": 45,
   "metadata": {},
   "outputs": [],
   "source": [
    "rf_prediction = pipe_rf.predict(test_data)"
   ]
  },
  {
   "cell_type": "code",
   "execution_count": 46,
   "metadata": {},
   "outputs": [
    {
     "data": {
      "text/plain": [
       "0.8772178850248403"
      ]
     },
     "execution_count": 46,
     "metadata": {},
     "output_type": "execute_result"
    }
   ],
   "source": [
    "accuracy_score(test_target,rf_prediction)"
   ]
  },
  {
   "cell_type": "code",
   "execution_count": 47,
   "metadata": {},
   "outputs": [
    {
     "name": "stdout",
     "output_type": "stream",
     "text": [
      "Test Result\n",
      "\n",
      "Confusion matrix:\n",
      "[[ 9313   398]\n",
      " [ 2515 10318]]\n",
      "\n",
      "              precision    recall  f1-score   support\n",
      "\n",
      "      normal       0.79      0.96      0.86      9711\n",
      "      attack       0.96      0.80      0.88     12833\n",
      "\n",
      "    accuracy                           0.87     22544\n",
      "   macro avg       0.88      0.88      0.87     22544\n",
      "weighted avg       0.89      0.87      0.87     22544\n",
      "\n"
     ]
    }
   ],
   "source": [
    "confusion = confusion_matrix(test_target,prediction)\n",
    "print('Test Result\\n')\n",
    "print(\"Confusion matrix:\\n{}\\n\".format(confusion))\n",
    "\n",
    "print(classification_report(test_target,prediction,target_names=[\"normal\", \"attack\"]))"
   ]
  },
  {
   "cell_type": "code",
   "execution_count": 48,
   "metadata": {
    "scrolled": false
   },
   "outputs": [
    {
     "data": {
      "text/plain": [
       "<matplotlib.axes._subplots.AxesSubplot at 0x1ef77e87248>"
      ]
     },
     "execution_count": 48,
     "metadata": {},
     "output_type": "execute_result"
    },
    {
     "data": {
      "image/png": "[encoded data removed]",
      "text/plain": [
       "<Figure size 432x288 with 2 Axes>"
      ]
     },
     "metadata": {
      "needs_background": "light"
     },
     "output_type": "display_data"
    }
   ],
   "source": [
    "sns.heatmap(confusion,fmt='d',annot=True,cmap='viridis')"
   ]
  },
  {
   "cell_type": "code",
   "execution_count": 49,
   "metadata": {},
   "outputs": [],
   "source": [
    "prediction = pipe_rf.predict(test_data)\n",
    "confusion = confusion_matrix(prediction,test_target)"
   ]
  },
  {
   "cell_type": "code",
   "execution_count": 50,
   "metadata": {},
   "outputs": [
    {
     "data": {
      "text/plain": [
       "<matplotlib.axes._subplots.AxesSubplot at 0x1ef0290ba48>"
      ]
     },
     "execution_count": 50,
     "metadata": {},
     "output_type": "execute_result"
    },
    {
     "data": {
      "image/png": "[encoded data removed]",
      "text/plain": [
       "<Figure size 720x360 with 2 Axes>"
      ]
     },
     "metadata": {
      "needs_background": "light"
     },
     "output_type": "display_data"
    }
   ],
   "source": [
    "plt.subplots(figsize=(10,5))\n",
    "plt.title('Random Forest Confusion Matrix')\n",
    "sns.heatmap(confusion,fmt='d',annot=True,cmap='YlGnBu',\n",
    "            xticklabels=['Predicted Normal','Predicted Attack'], yticklabels=['Actual Normal','Actual Attack'])"
   ]
  },
  {
   "cell_type": "markdown",
   "metadata": {},
   "source": [
    "## Gradient Boosting "
   ]
  },
  {
   "cell_type": "code",
   "execution_count": 51,
   "metadata": {},
   "outputs": [],
   "source": [
    "pipe_gb = make_pipeline(SelectPercentile(percentile=25),\n",
    "                        GradientBoostingClassifier(n_estimators = 150, max_features='log2',max_depth = 7,learning_rate=0.2,random_state=16))"
   ]
  },
  {
   "cell_type": "code",
   "execution_count": 52,
   "metadata": {},
   "outputs": [
    {
     "name": "stderr",
     "output_type": "stream",
     "text": [
      "C:\\Users\\ben\\anaconda3\\lib\\site-packages\\sklearn\\feature_selection\\_univariate_selection.py:114: UserWarning: Features [15 16] are constant.\n",
      "  UserWarning)\n",
      "C:\\Users\\ben\\anaconda3\\lib\\site-packages\\sklearn\\feature_selection\\_univariate_selection.py:115: RuntimeWarning: invalid value encountered in true_divide\n",
      "  f = msb / msw\n"
     ]
    },
    {
     "data": {
      "text/plain": [
       "Pipeline(memory=None,\n",
       "         steps=[('selectpercentile',\n",
       "                 SelectPercentile(percentile=25,\n",
       "                                  score_func=<function f_classif at 0x000001EF6E0F48B8>)),\n",
       "                ('gradientboostingclassifier',\n",
       "                 GradientBoostingClassifier(ccp_alpha=0.0,\n",
       "                                            criterion='friedman_mse', init=None,\n",
       "                                            learning_rate=0.2, loss='deviance',\n",
       "                                            max_depth=7, max_features='log2',\n",
       "                                            max_leaf_nodes=None,\n",
       "                                            min_impurity_decrease=0.0,\n",
       "                                            min_impurity_split=None,\n",
       "                                            min_samples_leaf=1,\n",
       "                                            min_samples_split=2,\n",
       "                                            min_weight_fraction_leaf=0.0,\n",
       "                                            n_estimators=150,\n",
       "                                            n_iter_no_change=None,\n",
       "                                            presort='deprecated',\n",
       "                                            random_state=16, subsample=1.0,\n",
       "                                            tol=0.0001, validation_fraction=0.1,\n",
       "                                            verbose=0, warm_start=False))],\n",
       "         verbose=False)"
      ]
     },
     "execution_count": 52,
     "metadata": {},
     "output_type": "execute_result"
    }
   ],
   "source": [
    "pipe_gb.fit(X_train,y_train)"
   ]
  },
  {
   "cell_type": "code",
   "execution_count": 53,
   "metadata": {},
   "outputs": [],
   "source": [
    "pred_test = pipe_gb.predict(X_test)"
   ]
  },
  {
   "cell_type": "code",
   "execution_count": 54,
   "metadata": {},
   "outputs": [
    {
     "name": "stdout",
     "output_type": "stream",
     "text": [
      "Train\n",
      "\n",
      "Confusion matrix:\n",
      "[[16782    23]\n",
      " [   20 14669]]\n",
      "\n",
      "              precision    recall  f1-score   support\n",
      "\n",
      "      normal       1.00      1.00      1.00     16802\n",
      "      attack       1.00      1.00      1.00     14692\n",
      "\n",
      "    accuracy                           1.00     31494\n",
      "   macro avg       1.00      1.00      1.00     31494\n",
      "weighted avg       1.00      1.00      1.00     31494\n",
      "\n"
     ]
    }
   ],
   "source": [
    "confusion = confusion_matrix(pred_test,y_test)\n",
    "print('Train\\n')\n",
    "print(\"Confusion matrix:\\n{}\\n\".format(confusion))\n",
    "\n",
    "print(classification_report(y_test, pred_test,target_names=[\"normal\", \"attack\"]))"
   ]
  },
  {
   "cell_type": "code",
   "execution_count": 55,
   "metadata": {},
   "outputs": [],
   "source": [
    "gb_prediction = pipe_gb.predict(test_data)"
   ]
  },
  {
   "cell_type": "code",
   "execution_count": 56,
   "metadata": {},
   "outputs": [
    {
     "data": {
      "text/plain": [
       "0.870874733853797"
      ]
     },
     "execution_count": 56,
     "metadata": {},
     "output_type": "execute_result"
    }
   ],
   "source": [
    "accuracy_score(test_target,gb_prediction)"
   ]
  },
  {
   "cell_type": "code",
   "execution_count": 57,
   "metadata": {},
   "outputs": [
    {
     "name": "stdout",
     "output_type": "stream",
     "text": [
      "Test Result\n",
      "\n",
      "Confusion matrix:\n",
      "[[ 9343   368]\n",
      " [ 2400 10433]]\n",
      "\n",
      "              precision    recall  f1-score   support\n",
      "\n",
      "      normal       0.80      0.96      0.87      9711\n",
      "      attack       0.97      0.81      0.88     12833\n",
      "\n",
      "    accuracy                           0.88     22544\n",
      "   macro avg       0.88      0.89      0.88     22544\n",
      "weighted avg       0.89      0.88      0.88     22544\n",
      "\n"
     ]
    }
   ],
   "source": [
    "confusion = confusion_matrix(test_target,prediction)\n",
    "print('Test Result\\n')\n",
    "print(\"Confusion matrix:\\n{}\\n\".format(confusion))\n",
    "\n",
    "print(classification_report(test_target,prediction,target_names=[\"normal\", \"attack\"]))"
   ]
  },
  {
   "cell_type": "code",
   "execution_count": 58,
   "metadata": {},
   "outputs": [],
   "source": [
    "prediction = pipe_gb.predict(test_data)\n",
    "confusion = confusion_matrix(prediction,test_target)"
   ]
  },
  {
   "cell_type": "code",
   "execution_count": 59,
   "metadata": {},
   "outputs": [
    {
     "data": {
      "text/plain": [
       "<matplotlib.axes._subplots.AxesSubplot at 0x1ef029b08c8>"
      ]
     },
     "execution_count": 59,
     "metadata": {},
     "output_type": "execute_result"
    },
    {
     "data": {
      "image/png": "[encoded data removed]",
      "text/plain": [
       "<Figure size 720x360 with 2 Axes>"
      ]
     },
     "metadata": {
      "needs_background": "light"
     },
     "output_type": "display_data"
    }
   ],
   "source": [
    "plt.subplots(figsize=(10,5))\n",
    "plt.title('Gradient Boosting Confusion Matrix')\n",
    "sns.heatmap(confusion,fmt='d',annot=True,cmap='YlGnBu',\n",
    "            xticklabels=['Predicted Normal','Predicted Attack'], yticklabels=['Actual Normal','Actual Attack'])"
   ]
  },
  {
   "cell_type": "markdown",
   "metadata": {},
   "source": [
    "## XGBOOST"
   ]
  },
  {
   "cell_type": "code",
   "execution_count": 27,
   "metadata": {},
   "outputs": [],
   "source": [
    "pipe_xgb = make_pipeline(SelectPercentile(percentile=25),\n",
    "                         xgb.XGBClassifier(n_estimators=150,learning_rate=0.1,max_depth=5,random_state=16))"
   ]
  },
  {
   "cell_type": "code",
   "execution_count": 28,
   "metadata": {
    "scrolled": true
   },
   "outputs": [
    {
     "name": "stderr",
     "output_type": "stream",
     "text": [
      "C:\\Users\\ben\\anaconda3\\lib\\site-packages\\sklearn\\feature_selection\\_univariate_selection.py:114: UserWarning: Features [15 16] are constant.\n",
      "  UserWarning)\n",
      "C:\\Users\\ben\\anaconda3\\lib\\site-packages\\sklearn\\feature_selection\\_univariate_selection.py:115: RuntimeWarning: invalid value encountered in true_divide\n",
      "  f = msb / msw\n"
     ]
    },
    {
     "data": {
      "text/plain": [
       "Pipeline(memory=None,\n",
       "         steps=[('selectpercentile',\n",
       "                 SelectPercentile(percentile=25,\n",
       "                                  score_func=<function f_classif at 0x0000028704AE8828>)),\n",
       "                ('xgbclassifier',\n",
       "                 XGBClassifier(base_score=0.5, booster='gbtree', callbacks=None,\n",
       "                               colsample_bylevel=1, colsample_bynode=1,\n",
       "                               colsample_bytree=1, early_stopping_rounds=None,\n",
       "                               enable_categorical=False, eval_metric=None,\n",
       "                               gamma=0, gpu_i...='depthwise',\n",
       "                               importance_type=None, interaction_constraints='',\n",
       "                               learning_rate=0.1, max_bin=256,\n",
       "                               max_cat_to_onehot=4, max_delta_step=0,\n",
       "                               max_depth=5, max_leaves=0, min_child_weight=1,\n",
       "                               missing=nan, monotone_constraints='()',\n",
       "                               n_estimators=150, n_jobs=0, num_parallel_tree=1,\n",
       "                               objective='binary:logistic', predictor='auto',\n",
       "                               random_state=16, reg_alpha=0, ...))],\n",
       "         verbose=False)"
      ]
     },
     "execution_count": 28,
     "metadata": {},
     "output_type": "execute_result"
    }
   ],
   "source": [
    "pipe_xgb.fit(X_train,y_train)"
   ]
  },
  {
   "cell_type": "code",
   "execution_count": 29,
   "metadata": {},
   "outputs": [],
   "source": [
    "pred_test = pipe_xgb.predict(X_test)"
   ]
  },
  {
   "cell_type": "code",
   "execution_count": 30,
   "metadata": {},
   "outputs": [
    {
     "name": "stdout",
     "output_type": "stream",
     "text": [
      "Train Result\n",
      "\n",
      "Confusion matrix:\n",
      "[[16755    26]\n",
      " [   47 14666]]\n",
      "\n",
      "              precision    recall  f1-score   support\n",
      "\n",
      "      normal       1.00      1.00      1.00     16802\n",
      "      attack       1.00      1.00      1.00     14692\n",
      "\n",
      "    accuracy                           1.00     31494\n",
      "   macro avg       1.00      1.00      1.00     31494\n",
      "weighted avg       1.00      1.00      1.00     31494\n",
      "\n"
     ]
    }
   ],
   "source": [
    "confusion = confusion_matrix(pred_test,y_test)\n",
    "print('Train Result\\n')\n",
    "print(\"Confusion matrix:\\n{}\\n\".format(confusion))\n",
    "\n",
    "print(classification_report(y_test, pred_test,target_names=[\"normal\", \"attack\"]))"
   ]
  },
  {
   "cell_type": "code",
   "execution_count": 31,
   "metadata": {},
   "outputs": [],
   "source": [
    "xgb_prediction = pipe_xgb.predict(test_data)"
   ]
  },
  {
   "cell_type": "code",
   "execution_count": 32,
   "metadata": {},
   "outputs": [
    {
     "data": {
      "text/plain": [
       "0.877040454222853"
      ]
     },
     "execution_count": 32,
     "metadata": {},
     "output_type": "execute_result"
    }
   ],
   "source": [
    "accuracy_score(test_target,xgb_prediction)"
   ]
  },
  {
   "cell_type": "code",
   "execution_count": 34,
   "metadata": {
    "scrolled": false
   },
   "outputs": [
    {
     "name": "stdout",
     "output_type": "stream",
     "text": [
      "Test Result\n",
      "\n",
      "Confusion matrix:\n",
      "[[ 9312   399]\n",
      " [ 2373 10460]]\n",
      "\n",
      "              precision    recall  f1-score   support\n",
      "\n",
      "      normal       0.80      0.96      0.87      9711\n",
      "      attack       0.96      0.82      0.88     12833\n",
      "\n",
      "    accuracy                           0.88     22544\n",
      "   macro avg       0.88      0.89      0.88     22544\n",
      "weighted avg       0.89      0.88      0.88     22544\n",
      "\n"
     ]
    }
   ],
   "source": [
    "confusion = confusion_matrix(test_target,xgb_prediction)\n",
    "print('Test Result\\n')\n",
    "print(\"Confusion matrix:\\n{}\\n\".format(confusion))\n",
    "\n",
    "print(classification_report(test_target,xgb_prediction,target_names=[\"normal\", \"attack\"]))"
   ]
  },
  {
   "cell_type": "code",
   "execution_count": 35,
   "metadata": {},
   "outputs": [],
   "source": [
    "prediction = pipe_xgb.predict(test_data)\n",
    "confusion = confusion_matrix(prediction,test_target)"
   ]
  },
  {
   "cell_type": "code",
   "execution_count": 38,
   "metadata": {},
   "outputs": [
    {
     "data": {
      "text/plain": [
       "<matplotlib.axes._subplots.AxesSubplot at 0x2870f3b1c08>"
      ]
     },
     "execution_count": 38,
     "metadata": {},
     "output_type": "execute_result"
    },
    {
     "data": {
      "image/png": "[encoded data removed]",
      "text/plain": [
       "<Figure size 720x360 with 2 Axes>"
      ]
     },
     "metadata": {
      "needs_background": "light"
     },
     "output_type": "display_data"
    }
   ],
   "source": [
    "plt.subplots(figsize=(10,5))\n",
    "plt.title('Xgboost Confusion Matrix')\n",
    "sns.heatmap(confusion,fmt='d',annot=True,cmap='YlGnBu',\n",
    "            xticklabels=['Predicted Normal','Predicted Attack'], yticklabels=['Actual Normal','Actual Attack'])"
   ]
  },
  {
   "cell_type": "markdown",
   "metadata": {},
   "source": [
    "## LIGHTGBM"
   ]
  },
  {
   "cell_type": "code",
   "execution_count": 69,
   "metadata": {},
   "outputs": [],
   "source": [
    "pipe_lgb = make_pipeline(SelectPercentile(percentile=25),\n",
    "                         lgb.LGBMClassifier(num_iterations=150,\n",
    "                                            max_depth=5,learning_rate=0.1,random_state=16))\n"
   ]
  },
  {
   "cell_type": "code",
   "execution_count": 70,
   "metadata": {},
   "outputs": [
    {
     "name": "stderr",
     "output_type": "stream",
     "text": [
      "C:\\Users\\ben\\anaconda3\\lib\\site-packages\\sklearn\\feature_selection\\_univariate_selection.py:114: UserWarning: Features [15 16] are constant.\n",
      "  UserWarning)\n",
      "C:\\Users\\ben\\anaconda3\\lib\\site-packages\\sklearn\\feature_selection\\_univariate_selection.py:115: RuntimeWarning: invalid value encountered in true_divide\n",
      "  f = msb / msw\n",
      "C:\\Users\\ben\\anaconda3\\lib\\site-packages\\lightgbm\\engine.py:177: UserWarning: Found `num_iterations` in params. Will use it instead of argument\n",
      "  _log_warning(f\"Found `{alias}` in params. Will use it instead of argument\")\n"
     ]
    },
    {
     "data": {
      "text/plain": [
       "Pipeline(memory=None,\n",
       "         steps=[('selectpercentile',\n",
       "                 SelectPercentile(percentile=25,\n",
       "                                  score_func=<function f_classif at 0x000001EF6E0F48B8>)),\n",
       "                ('lgbmclassifier',\n",
       "                 LGBMClassifier(boosting_type='gbdt', class_weight=None,\n",
       "                                colsample_bytree=1.0, importance_type='split',\n",
       "                                learning_rate=0.1, max_depth=5,\n",
       "                                min_child_samples=20, min_child_weight=0.001,\n",
       "                                min_split_gain=0.0, n_estimators=100, n_jobs=-1,\n",
       "                                num_iterations=150, num_leaves=31,\n",
       "                                objective=None, random_state=16, reg_alpha=0.0,\n",
       "                                reg_lambda=0.0, silent='warn', subsample=1.0,\n",
       "                                subsample_for_bin=200000, subsample_freq=0))],\n",
       "         verbose=False)"
      ]
     },
     "execution_count": 70,
     "metadata": {},
     "output_type": "execute_result"
    }
   ],
   "source": [
    "pipe_lgb.fit(X_train,y_train)"
   ]
  },
  {
   "cell_type": "code",
   "execution_count": 71,
   "metadata": {},
   "outputs": [],
   "source": [
    "pred_test = pipe_lgb.predict(X_test)"
   ]
  },
  {
   "cell_type": "code",
   "execution_count": 72,
   "metadata": {},
   "outputs": [
    {
     "name": "stdout",
     "output_type": "stream",
     "text": [
      "Train Result\n",
      "\n",
      "Confusion matrix:\n",
      "[[16753    21]\n",
      " [   49 14671]]\n",
      "\n",
      "              precision    recall  f1-score   support\n",
      "\n",
      "      normal       1.00      1.00      1.00     16802\n",
      "      attack       1.00      1.00      1.00     14692\n",
      "\n",
      "    accuracy                           1.00     31494\n",
      "   macro avg       1.00      1.00      1.00     31494\n",
      "weighted avg       1.00      1.00      1.00     31494\n",
      "\n"
     ]
    }
   ],
   "source": [
    "confusion = confusion_matrix(pred_test,y_test)\n",
    "print('Train Result\\n')\n",
    "print(\"Confusion matrix:\\n{}\\n\".format(confusion))\n",
    "\n",
    "print(classification_report(y_test, pred_test,target_names=[\"normal\", \"attack\"]))"
   ]
  },
  {
   "cell_type": "code",
   "execution_count": 73,
   "metadata": {},
   "outputs": [],
   "source": [
    "lgb_prediction = pipe_lgb.predict(test_data)"
   ]
  },
  {
   "cell_type": "code",
   "execution_count": 74,
   "metadata": {
    "scrolled": true
   },
   "outputs": [
    {
     "data": {
      "text/plain": [
       "0.8671486870120653"
      ]
     },
     "execution_count": 74,
     "metadata": {},
     "output_type": "execute_result"
    }
   ],
   "source": [
    "accuracy_score(test_target,lgb_prediction)"
   ]
  },
  {
   "cell_type": "code",
   "execution_count": 75,
   "metadata": {
    "scrolled": true
   },
   "outputs": [
    {
     "name": "stdout",
     "output_type": "stream",
     "text": [
      "Test Result\n",
      "\n",
      "Confusion matrix:\n",
      "[[ 9312   399]\n",
      " [ 2373 10460]]\n",
      "\n",
      "              precision    recall  f1-score   support\n",
      "\n",
      "      normal       0.80      0.96      0.87      9711\n",
      "      attack       0.96      0.82      0.88     12833\n",
      "\n",
      "    accuracy                           0.88     22544\n",
      "   macro avg       0.88      0.89      0.88     22544\n",
      "weighted avg       0.89      0.88      0.88     22544\n",
      "\n"
     ]
    }
   ],
   "source": [
    "confusion = confusion_matrix(test_target,prediction)\n",
    "print('Test Result\\n')\n",
    "print(\"Confusion matrix:\\n{}\\n\".format(confusion))\n",
    "\n",
    "print(classification_report(test_target,prediction,target_names=[\"normal\", \"attack\"]))"
   ]
  },
  {
   "cell_type": "code",
   "execution_count": 76,
   "metadata": {},
   "outputs": [],
   "source": [
    "prediction = pipe_lgb.predict(test_data)\n",
    "confusion = confusion_matrix(prediction,test_target)"
   ]
  },
  {
   "cell_type": "code",
   "execution_count": 77,
   "metadata": {},
   "outputs": [
    {
     "data": {
      "text/plain": [
       "<matplotlib.axes._subplots.AxesSubplot at 0x1ef02b213c8>"
      ]
     },
     "execution_count": 77,
     "metadata": {},
     "output_type": "execute_result"
    },
    {
     "data": {
      "image/png": "[encoded data removed]",
      "text/plain": [
       "<Figure size 720x360 with 2 Axes>"
      ]
     },
     "metadata": {
      "needs_background": "light"
     },
     "output_type": "display_data"
    }
   ],
   "source": [
    "plt.subplots(figsize=(10,5))\n",
    "plt.title('LightGMB Confusion Matrix')\n",
    "sns.heatmap(confusion,fmt='d',annot=True,cmap='YlGnBu',\n",
    "            xticklabels=['Predicted Normal','Predicted Attack'], yticklabels=['Actual Normal','Actual Attack'])"
   ]
  },
  {
   "cell_type": "markdown",
   "metadata": {},
   "source": [
    "## SVM"
   ]
  },
  {
   "cell_type": "code",
   "execution_count": 78,
   "metadata": {},
   "outputs": [],
   "source": [
    "pipe_svm = make_pipeline(MinMaxScaler(),\n",
    "                    SelectPercentile(percentile=50),SVC(C = 1000, gamma = 0.5, max_iter=1000, \n",
    "                                                        random_state=16,probability=True))"
   ]
  },
  {
   "cell_type": "code",
   "execution_count": 79,
   "metadata": {},
   "outputs": [
    {
     "name": "stderr",
     "output_type": "stream",
     "text": [
      "C:\\Users\\ben\\anaconda3\\lib\\site-packages\\sklearn\\feature_selection\\_univariate_selection.py:114: UserWarning: Features [15 16] are constant.\n",
      "  UserWarning)\n",
      "C:\\Users\\ben\\anaconda3\\lib\\site-packages\\sklearn\\feature_selection\\_univariate_selection.py:115: RuntimeWarning: invalid value encountered in true_divide\n",
      "  f = msb / msw\n",
      "C:\\Users\\ben\\anaconda3\\lib\\site-packages\\sklearn\\svm\\_base.py:231: ConvergenceWarning: Solver terminated early (max_iter=1000).  Consider pre-processing your data with StandardScaler or MinMaxScaler.\n",
      "  % self.max_iter, ConvergenceWarning)\n"
     ]
    },
    {
     "data": {
      "text/plain": [
       "Pipeline(memory=None,\n",
       "         steps=[('minmaxscaler', MinMaxScaler(copy=True, feature_range=(0, 1))),\n",
       "                ('selectpercentile',\n",
       "                 SelectPercentile(percentile=50,\n",
       "                                  score_func=<function f_classif at 0x000001EF6E0F48B8>)),\n",
       "                ('svc',\n",
       "                 SVC(C=1000, break_ties=False, cache_size=200,\n",
       "                     class_weight=None, coef0=0.0,\n",
       "                     decision_function_shape='ovr', degree=3, gamma=0.5,\n",
       "                     kernel='rbf', max_iter=1000, probability=True,\n",
       "                     random_state=16, shrinking=True, tol=0.001,\n",
       "                     verbose=False))],\n",
       "         verbose=False)"
      ]
     },
     "execution_count": 79,
     "metadata": {},
     "output_type": "execute_result"
    }
   ],
   "source": [
    "pipe_svm.fit(X_train,y_train)"
   ]
  },
  {
   "cell_type": "code",
   "execution_count": 80,
   "metadata": {},
   "outputs": [],
   "source": [
    "pred_test = pipe_svm.predict(X_test)"
   ]
  },
  {
   "cell_type": "code",
   "execution_count": 81,
   "metadata": {},
   "outputs": [
    {
     "name": "stdout",
     "output_type": "stream",
     "text": [
      "Train Result\n",
      "\n",
      "Confusion matrix:\n",
      "[[16726  6431]\n",
      " [   76  8261]]\n",
      "\n",
      "              precision    recall  f1-score   support\n",
      "\n",
      "      normal       0.72      1.00      0.84     16802\n",
      "      attack       0.99      0.56      0.72     14692\n",
      "\n",
      "    accuracy                           0.79     31494\n",
      "   macro avg       0.86      0.78      0.78     31494\n",
      "weighted avg       0.85      0.79      0.78     31494\n",
      "\n"
     ]
    }
   ],
   "source": [
    "confusion = confusion_matrix(pred_test,y_test)\n",
    "print('Train Result\\n')\n",
    "print(\"Confusion matrix:\\n{}\\n\".format(confusion))\n",
    "\n",
    "print(classification_report(y_test, pred_test,target_names=[\"normal\", \"attack\"]))"
   ]
  },
  {
   "cell_type": "code",
   "execution_count": 82,
   "metadata": {},
   "outputs": [],
   "source": [
    "svm_prediction = pipe_svm.predict(test_data)"
   ]
  },
  {
   "cell_type": "code",
   "execution_count": 83,
   "metadata": {},
   "outputs": [
    {
     "data": {
      "text/plain": [
       "0.8671486870120653"
      ]
     },
     "execution_count": 83,
     "metadata": {},
     "output_type": "execute_result"
    }
   ],
   "source": [
    "accuracy_score(test_target,prediction)"
   ]
  },
  {
   "cell_type": "code",
   "execution_count": 84,
   "metadata": {
    "scrolled": false
   },
   "outputs": [
    {
     "name": "stdout",
     "output_type": "stream",
     "text": [
      "Test Result\n",
      "\n",
      "Confusion matrix:\n",
      "[[ 9403   308]\n",
      " [ 2687 10146]]\n",
      "\n",
      "              precision    recall  f1-score   support\n",
      "\n",
      "      normal       0.78      0.97      0.86      9711\n",
      "      attack       0.97      0.79      0.87     12833\n",
      "\n",
      "    accuracy                           0.87     22544\n",
      "   macro avg       0.87      0.88      0.87     22544\n",
      "weighted avg       0.89      0.87      0.87     22544\n",
      "\n"
     ]
    }
   ],
   "source": [
    "confusion = confusion_matrix(test_target,prediction)\n",
    "print('Test Result\\n')\n",
    "print(\"Confusion matrix:\\n{}\\n\".format(confusion))\n",
    "\n",
    "print(classification_report(test_target,prediction,target_names=[\"normal\", \"attack\"]))"
   ]
  },
  {
   "cell_type": "code",
   "execution_count": 85,
   "metadata": {},
   "outputs": [],
   "source": [
    "prediction = pipe_svm.predict(test_data)\n",
    "confusion = confusion_matrix(prediction,test_target)"
   ]
  },
  {
   "cell_type": "code",
   "execution_count": 86,
   "metadata": {},
   "outputs": [
    {
     "data": {
      "text/plain": [
       "<matplotlib.axes._subplots.AxesSubplot at 0x1ef02bcd5c8>"
      ]
     },
     "execution_count": 86,
     "metadata": {},
     "output_type": "execute_result"
    },
    {
     "data": {
      "image/png": "[encoded data removed]",
      "text/plain": [
       "<Figure size 720x360 with 2 Axes>"
      ]
     },
     "metadata": {
      "needs_background": "light"
     },
     "output_type": "display_data"
    }
   ],
   "source": [
    "plt.subplots(figsize=(10,5))\n",
    "plt.title('Support Vector Machines Confusion Matrix')\n",
    "sns.heatmap(confusion,fmt='d',annot=True,cmap='YlGnBu',\n",
    "            xticklabels=['Predicted Normal','Predicted Attack'], yticklabels=['Actual Normal','Actual Attack'])"
   ]
  },
  {
   "cell_type": "markdown",
   "metadata": {},
   "source": [
    "## Fit Check"
   ]
  },
  {
   "cell_type": "code",
   "execution_count": null,
   "metadata": {},
   "outputs": [],
   "source": [
    "def fitting(model):\n",
    "    \n",
    "    train_score= model.score(X_train,y_train)\n",
    "    test_score= model.score(X_test,y_test)\n",
    "    \n",
    "    print('Train set score:{:.3f}'.format(train_score))\n",
    "    print('Test set score:{:.3f}'.format(test_score))\n",
    "    \n",
    "    if (train_score-test_score) >= 0.1:\n",
    "        print('Model is overfitted')\n",
    "    elif (train_score-test_score) < 0: \n",
    "        print('Model is underfitted')\n",
    "    else:\n",
    "        print('Proper fit prediction')"
   ]
  },
  {
   "cell_type": "code",
   "execution_count": null,
   "metadata": {},
   "outputs": [],
   "source": [
    "fitting(pipe_lr)"
   ]
  },
  {
   "cell_type": "code",
   "execution_count": null,
   "metadata": {},
   "outputs": [],
   "source": [
    "fitting(pipe_rf)"
   ]
  },
  {
   "cell_type": "code",
   "execution_count": null,
   "metadata": {},
   "outputs": [],
   "source": [
    "fitting(pipe_gb)"
   ]
  },
  {
   "cell_type": "code",
   "execution_count": null,
   "metadata": {},
   "outputs": [],
   "source": [
    "fitting(pipe_xgb)"
   ]
  },
  {
   "cell_type": "code",
   "execution_count": null,
   "metadata": {},
   "outputs": [],
   "source": [
    "fitting(pipe_lgb)"
   ]
  },
  {
   "cell_type": "markdown",
   "metadata": {},
   "source": [
    "## Voting Classifier"
   ]
  },
  {
   "cell_type": "code",
   "execution_count": null,
   "metadata": {},
   "outputs": [],
   "source": [
    "from sklearn.ensemble import VotingClassifier"
   ]
  },
  {
   "cell_type": "code",
   "execution_count": null,
   "metadata": {},
   "outputs": [],
   "source": [
    "voting_clf = VotingClassifier(estimators=[('xgb',pipe_xgb),('rf',pipe_rf),('gb',pipe_gb),('lgb',pipe_lgb)],\n",
    "                             voting = 'hard')"
   ]
  },
  {
   "cell_type": "code",
   "execution_count": null,
   "metadata": {},
   "outputs": [],
   "source": [
    "voting_clf.fit(X_train,y_train)"
   ]
  },
  {
   "cell_type": "code",
   "execution_count": null,
   "metadata": {},
   "outputs": [],
   "source": [
    "predict = voting_clf.predict(test_data)"
   ]
  },
  {
   "cell_type": "code",
   "execution_count": null,
   "metadata": {},
   "outputs": [],
   "source": [
    "accuracy_score(test_target,predict)"
   ]
  },
  {
   "cell_type": "code",
   "execution_count": null,
   "metadata": {
    "scrolled": true
   },
   "outputs": [],
   "source": [
    "print(classification_report(test_target,predict))"
   ]
  },
  {
   "cell_type": "code",
   "execution_count": null,
   "metadata": {},
   "outputs": [],
   "source": [
    "confussion = confusion_matrix(test_target,predict)"
   ]
  },
  {
   "cell_type": "code",
   "execution_count": null,
   "metadata": {},
   "outputs": [],
   "source": [
    "plt.subplots(figsize=(10,5))\n",
    "plt.title('Gradient Boosting Confusion Matrix')\n",
    "sns.heatmap(confusion,fmt='d',annot=True,cmap='YlGnBu',\n",
    "            xticklabels=['Predicted Normal','Predicted Attack'], yticklabels=['Actual Normal','Actual Attack'])"
   ]
  },
  {
   "cell_type": "markdown",
   "metadata": {},
   "source": [
    "## Cross Validation"
   ]
  },
  {
   "cell_type": "code",
   "execution_count": null,
   "metadata": {},
   "outputs": [],
   "source": [
    "kfold = StratifiedKFold(n_splits =5, shuffle=True, random_state=16)"
   ]
  },
  {
   "cell_type": "code",
   "execution_count": null,
   "metadata": {},
   "outputs": [],
   "source": [
    "def validate(model,x,y):\n",
    "    \n",
    "    scores = cross_val_score(model, x, y, cv=kfold)\n",
    "    \n",
    "    print(model)    \n",
    "    print(scores)\n",
    "    print(scores.mean())\n",
    "    \n",
    "    result = scores.mean()\n",
    "    \n",
    "    return result"
   ]
  },
  {
   "cell_type": "markdown",
   "metadata": {},
   "source": [
    "### Train Validation"
   ]
  },
  {
   "cell_type": "code",
   "execution_count": null,
   "metadata": {},
   "outputs": [],
   "source": [
    "validate(pipe_lr,X,target)"
   ]
  },
  {
   "cell_type": "code",
   "execution_count": null,
   "metadata": {},
   "outputs": [],
   "source": [
    "validate(pipe_rf,X,target)"
   ]
  },
  {
   "cell_type": "code",
   "execution_count": null,
   "metadata": {},
   "outputs": [],
   "source": [
    "validate(pipe_gb,X,target)"
   ]
  },
  {
   "cell_type": "code",
   "execution_count": null,
   "metadata": {},
   "outputs": [],
   "source": [
    "validate(pipe_xgb,X,target)"
   ]
  },
  {
   "cell_type": "code",
   "execution_count": null,
   "metadata": {},
   "outputs": [],
   "source": [
    "validate(pipe_lgb,X,target)"
   ]
  },
  {
   "cell_type": "code",
   "execution_count": null,
   "metadata": {},
   "outputs": [],
   "source": [
    "validate(pipe_svm,X,target)"
   ]
  },
  {
   "cell_type": "markdown",
   "metadata": {},
   "source": [
    "### Test Validation"
   ]
  },
  {
   "cell_type": "code",
   "execution_count": null,
   "metadata": {},
   "outputs": [],
   "source": [
    "validate(pipe_lr,test_data,test_target)"
   ]
  },
  {
   "cell_type": "code",
   "execution_count": null,
   "metadata": {},
   "outputs": [],
   "source": [
    "validate(pipe_rf,test_data,test_target)"
   ]
  },
  {
   "cell_type": "code",
   "execution_count": null,
   "metadata": {},
   "outputs": [],
   "source": [
    "validate(pipe_gb,test_data,test_target)"
   ]
  },
  {
   "cell_type": "code",
   "execution_count": null,
   "metadata": {},
   "outputs": [],
   "source": [
    "validate(pipe_xgb,test_data,test_target)"
   ]
  },
  {
   "cell_type": "code",
   "execution_count": null,
   "metadata": {},
   "outputs": [],
   "source": [
    "validate(pipe_lgb,test_data,test_target)"
   ]
  },
  {
   "cell_type": "code",
   "execution_count": null,
   "metadata": {},
   "outputs": [],
   "source": [
    "validate(pipe_svm,test_data,test_target)"
   ]
  },
  {
   "cell_type": "code",
   "execution_count": null,
   "metadata": {},
   "outputs": [],
   "source": [
    "train_scores_lr,test_score_lr = validate(pipe_lr,X,target),validate(pipe_lr,test_data,test_target)\n",
    "train_scores_rf,test_score_rf = validate(pipe_rf,X,target),validate(pipe_rf,test_data,test_target)\n",
    "train_scores_gb,test_score_gb = validate(pipe_gb,X,target),validate(pipe_gb,test_data,test_target)\n",
    "train_scores_xgb,test_score_xgb = validate(pipe_xgb,X,target),validate(pipe_xgb,test_data,test_target)\n",
    "train_scores_lgb,test_score_lgb = validate(pipe_lgb,X,target),validate(pipe_lgb,test_data,test_target)\n",
    "train_scores_svm,test_score_svm = validate(pipe_svm,X,target),validate(pipe_svm,test_data,test_target)"
   ]
  },
  {
   "cell_type": "markdown",
   "metadata": {},
   "source": [
    "### Evaluation"
   ]
  },
  {
   "cell_type": "code",
   "execution_count": null,
   "metadata": {},
   "outputs": [],
   "source": [
    "eval_result = {'Logistic Regression':[train_scores_lr,test_score_lr],'Random Forest':[train_scores_rf,test_score_rf],\n",
    "      'Gradient Boosting':[train_scores_gb,test_score_gb],\n",
    "      'Xgboost':[train_scores_xgb,test_score_xgb],'LightGBM':[train_scores_lgb,test_score_lgb],\n",
    "      'SVM':[train_scores_svm,test_score_svm],'ANN':[0.971398,0.992548]\n",
    "     }\n",
    "\n",
    "df = pd.DataFrame(eval_result)\n",
    "\n",
    "#df.plot(kind='bar')\n",
    "#plt.legend(['Train','Test'],loc=0)"
   ]
  },
  {
   "cell_type": "code",
   "execution_count": null,
   "metadata": {},
   "outputs": [],
   "source": [
    "new_df = df.T\n",
    "new_df = new_df.rename(columns={0:'Train',1:'Test'})"
   ]
  },
  {
   "cell_type": "code",
   "execution_count": null,
   "metadata": {},
   "outputs": [],
   "source": [
    "new_df"
   ]
  },
  {
   "cell_type": "code",
   "execution_count": null,
   "metadata": {
    "scrolled": true
   },
   "outputs": [],
   "source": [
    "new_df.to_excel('accuracy.xlsx')"
   ]
  },
  {
   "cell_type": "code",
   "execution_count": null,
   "metadata": {},
   "outputs": [],
   "source": [
    "fig,ax = plt.subplots(figsize=(25,17))\n",
    "new_df.plot(kind='bar',ax=ax,fig = (plt.ylim(0.75,1.0),plt.title('Evaluation',size=30),plt.xlabel('Models',size=20,),\n",
    "                                    plt.ylabel('Accuracies',size=20),plt.yticks(fontsize=20)))\n",
    "plt.xticks(fontsize=20,rotation=15)\n",
    "fig.savefig('Binary Accuracy Evaluation')"
   ]
  }
 ],
 "metadata": {
  "kernelspec": {
   "display_name": "Python 3",
   "language": "python",
   "name": "python3"
  },
  "language_info": {
   "codemirror_mode": {
    "name": "ipython",
    "version": 3
   },
   "file_extension": ".py",
   "mimetype": "text/x-python",
   "name": "python",
   "nbconvert_exporter": "python",
   "pygments_lexer": "ipython3",
   "version": "3.7.6"
  }
 },
 "nbformat": 4,
 "nbformat_minor": 4
}
